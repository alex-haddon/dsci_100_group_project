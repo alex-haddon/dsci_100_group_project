{
 "cells": [
  {
   "cell_type": "markdown",
   "id": "bcf782f0-985b-47ee-aa71-3f1d1f8a38da",
   "metadata": {},
   "source": [
    "## Working Title: \n",
    "Exploring the relationship between average minutes per game and number of aces to predict surface type of the court the match was played on"
   ]
  },
  {
   "cell_type": "markdown",
   "id": "ddc3c522-d056-493c-b760-e8e8e80b5fcb",
   "metadata": {},
   "source": [
    "## Preliminary exploratory data analysis"
   ]
  },
  {
   "cell_type": "code",
   "execution_count": 1,
   "id": "74965d0c-deb0-4312-b5ac-f04bc638f351",
   "metadata": {},
   "outputs": [
    {
     "name": "stderr",
     "output_type": "stream",
     "text": [
      "── \u001b[1mAttaching packages\u001b[22m ─────────────────────────────────────── tidyverse 1.3.1 ──\n",
      "\n",
      "\u001b[32m✔\u001b[39m \u001b[34mggplot2\u001b[39m 3.3.6     \u001b[32m✔\u001b[39m \u001b[34mpurrr  \u001b[39m 0.3.4\n",
      "\u001b[32m✔\u001b[39m \u001b[34mtibble \u001b[39m 3.1.7     \u001b[32m✔\u001b[39m \u001b[34mdplyr  \u001b[39m 1.0.9\n",
      "\u001b[32m✔\u001b[39m \u001b[34mtidyr  \u001b[39m 1.2.0     \u001b[32m✔\u001b[39m \u001b[34mstringr\u001b[39m 1.4.0\n",
      "\u001b[32m✔\u001b[39m \u001b[34mreadr  \u001b[39m 2.1.2     \u001b[32m✔\u001b[39m \u001b[34mforcats\u001b[39m 0.5.1\n",
      "\n",
      "── \u001b[1mConflicts\u001b[22m ────────────────────────────────────────── tidyverse_conflicts() ──\n",
      "\u001b[31m✖\u001b[39m \u001b[34mdplyr\u001b[39m::\u001b[32mfilter()\u001b[39m masks \u001b[34mstats\u001b[39m::filter()\n",
      "\u001b[31m✖\u001b[39m \u001b[34mdplyr\u001b[39m::\u001b[32mlag()\u001b[39m    masks \u001b[34mstats\u001b[39m::lag()\n",
      "\n",
      "── \u001b[1mAttaching packages\u001b[22m ────────────────────────────────────── tidymodels 1.0.0 ──\n",
      "\n",
      "\u001b[32m✔\u001b[39m \u001b[34mbroom       \u001b[39m 1.0.0     \u001b[32m✔\u001b[39m \u001b[34mrsample     \u001b[39m 1.0.0\n",
      "\u001b[32m✔\u001b[39m \u001b[34mdials       \u001b[39m 1.0.0     \u001b[32m✔\u001b[39m \u001b[34mtune        \u001b[39m 1.0.0\n",
      "\u001b[32m✔\u001b[39m \u001b[34minfer       \u001b[39m 1.0.2     \u001b[32m✔\u001b[39m \u001b[34mworkflows   \u001b[39m 1.0.0\n",
      "\u001b[32m✔\u001b[39m \u001b[34mmodeldata   \u001b[39m 1.0.0     \u001b[32m✔\u001b[39m \u001b[34mworkflowsets\u001b[39m 1.0.0\n",
      "\u001b[32m✔\u001b[39m \u001b[34mparsnip     \u001b[39m 1.0.0     \u001b[32m✔\u001b[39m \u001b[34myardstick   \u001b[39m 1.0.0\n",
      "\u001b[32m✔\u001b[39m \u001b[34mrecipes     \u001b[39m 1.0.1     \n",
      "\n",
      "── \u001b[1mConflicts\u001b[22m ───────────────────────────────────────── tidymodels_conflicts() ──\n",
      "\u001b[31m✖\u001b[39m \u001b[34mscales\u001b[39m::\u001b[32mdiscard()\u001b[39m masks \u001b[34mpurrr\u001b[39m::discard()\n",
      "\u001b[31m✖\u001b[39m \u001b[34mdplyr\u001b[39m::\u001b[32mfilter()\u001b[39m   masks \u001b[34mstats\u001b[39m::filter()\n",
      "\u001b[31m✖\u001b[39m \u001b[34mrecipes\u001b[39m::\u001b[32mfixed()\u001b[39m  masks \u001b[34mstringr\u001b[39m::fixed()\n",
      "\u001b[31m✖\u001b[39m \u001b[34mdplyr\u001b[39m::\u001b[32mlag()\u001b[39m      masks \u001b[34mstats\u001b[39m::lag()\n",
      "\u001b[31m✖\u001b[39m \u001b[34myardstick\u001b[39m::\u001b[32mspec()\u001b[39m masks \u001b[34mreadr\u001b[39m::spec()\n",
      "\u001b[31m✖\u001b[39m \u001b[34mrecipes\u001b[39m::\u001b[32mstep()\u001b[39m   masks \u001b[34mstats\u001b[39m::step()\n",
      "\u001b[34m•\u001b[39m Dig deeper into tidy modeling with R at \u001b[32mhttps://www.tmwr.org\u001b[39m\n",
      "\n",
      "Updating HTML index of packages in '.Library'\n",
      "\n",
      "Making 'packages.html' ...\n",
      " done\n",
      "\n"
     ]
    }
   ],
   "source": [
    "library(tidyverse)\n",
    "library(repr)\n",
    "library(tidymodels)\n",
    "install.packages(\"stringr\")\n",
    "set.seed(2022)"
   ]
  },
  {
   "cell_type": "code",
   "execution_count": 6,
   "id": "f5b47e4b-aa33-4c31-b240-a32db4e32a48",
   "metadata": {},
   "outputs": [],
   "source": [
    "# tennis_data <- read_csv(\"atp2017-2019.csv\") |>\n",
    "#     select(\"...1\", \"surface\", \"score\", \"minutes\", \"w_ace\", \"l_ace\") |> #only useful columns\n",
    "#     filter(minutes != \"NA\") |> #remove unknown match times\n",
    "#     mutate(total_aces = w_ace + l_ace) |> #combined winner aces and loser aces\n",
    "#     mutate(total_games = sub(\"\\\\(.*\\\\)\", \"\", score)) |> #remove (...) \n",
    "#     mutate(total_games = str_replace_all(total_games, c(\"-\" = \" \", \" \" = \",\"))) |> #remove dashes and spaces; \n",
    "#                                                                                    #replace with commas\n",
    "#     mutate(total_games = str_extract_all(total_games, \"[123456789]\")) #extract the numbers as a character list\n",
    "\n",
    "# sum_character_list <- function(x) sum(as.numeric(unlist(x))) #function to convert character list to sum of those numbers\n",
    "\n",
    "# tennis_data$total_games <- lapply(tennis_data$total_games, sum_character_list) #apply function to total_games column\n",
    "\n",
    "# tennis_data <- mutate(tennis_data, total_games = as.numeric(total_games)) #convert to double\n",
    "                               \n",
    "# tennis_data_wrangled <- tennis_data |>\n",
    "#     mutate(minutes_per_game = minutes / total_games) |>\n",
    "#     rename(\"observation\" = \"...1\") |>\n",
    "#     filter(surface != \"None\") |>\n",
    "#     select(\"observation\", \"surface\", \"total_aces\", \"minutes_per_game\")\n",
    "\n",
    "# tennis_data_wrangled"
   ]
  },
  {
   "cell_type": "code",
   "execution_count": 7,
   "id": "ee8d8a58-5371-41a0-8c0e-0fa68fee22de",
   "metadata": {},
   "outputs": [],
   "source": [
    "# tennis_plot <- ggplot(tennis_data_wrangled, aes(x=minutes_per_game, y=total_aces, color=surface))+\n",
    "#     geom_point(alpha=0.1)+\n",
    "#     xlab(\"Min/Game\")+\n",
    "#     ylab(\"Total Aces\")+\n",
    "#     facet_grid(row = vars(surface))\n",
    "\n",
    "# tennis_plot"
   ]
  },
  {
   "cell_type": "code",
   "execution_count": 37,
   "id": "2a0be97d-2bdc-490c-b754-9d2ec8b8056b",
   "metadata": {},
   "outputs": [],
   "source": [
    "# tennis_data <- read_csv(\"atp2017-2019.csv\") |>\n",
    "# select(\"winner_rank\", \"loser_rank\", \"minutes\") |>\n",
    "# filter(minutes != \"NA\") |>\n",
    "# mutate(difference = winner_rank - loser_rank)\n",
    "\n",
    "# tennis_plot <- ggplot(tennis_data, aes(x = difference, y = minutes)) +\n",
    "#     geom_point(alpha = 0.5)\n",
    "# tennis_plot"
   ]
  },
  {
   "cell_type": "code",
   "execution_count": null,
   "id": "9e84f7bf-7f22-4ca6-a39c-5c32f798955f",
   "metadata": {},
   "outputs": [],
   "source": []
  }
 ],
 "metadata": {
  "kernelspec": {
   "display_name": "R",
   "language": "R",
   "name": "ir"
  },
  "language_info": {
   "codemirror_mode": "r",
   "file_extension": ".r",
   "mimetype": "text/x-r-source",
   "name": "R",
   "pygments_lexer": "r",
   "version": "4.1.3"
  }
 },
 "nbformat": 4,
 "nbformat_minor": 5
}
