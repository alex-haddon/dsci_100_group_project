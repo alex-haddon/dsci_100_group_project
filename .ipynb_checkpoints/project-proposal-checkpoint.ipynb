{
 "cells": [
  {
   "cell_type": "markdown",
   "id": "445bcf08-4f87-429d-86de-16a63d8ef8cf",
   "metadata": {},
   "source": [
    "# Classifying Survival of the Titanic Disaster "
   ]
  },
  {
   "cell_type": "markdown",
   "id": "c7074ca1-f2e6-4bde-bea6-96a623bede8b",
   "metadata": {},
   "source": [
    "# Introduction: \n",
    "RMS Titanic was a British passenger ship which sank in the North Atlantic Ocean on April 15th,  1912 after striking an iceberg during its maiden voyage from Southampton, UK, to New York City, United States. Of the estimated 2,224 passengers and crew aboard, more than 1,500 died, making it the deadliest sinking of a single ship up to that time. This data set includes 891 observations of passengers aboard the ship. The data set includes information about passengers such as their age, sex, ticket type, fare, and whether or not they survived the sinking. We will be using the variables Age (double), Fare(double), and Sex(factor) to classify which passengers as having survived or not on during the sinking of the Titanic. \n"
   ]
  },
  {
   "cell_type": "markdown",
   "id": "aa3c0f0c-d96b-42e0-849e-2824124f7603",
   "metadata": {},
   "source": [
    "# Preliminary exploratory data analysis:"
   ]
  },
  {
   "cell_type": "code",
   "execution_count": 54,
   "id": "ae0ae62f-38eb-4feb-971c-57703bca38fa",
   "metadata": {},
   "outputs": [],
   "source": [
    "library(tidyverse)\n",
    "library(repr)\n",
    "library(tidymodels)\n",
    "set.seed(2022)"
   ]
  },
  {
   "cell_type": "code",
   "execution_count": 55,
   "id": "183d90e5-676b-4259-98a5-0cff60ef9a1d",
   "metadata": {},
   "outputs": [
    {
     "name": "stderr",
     "output_type": "stream",
     "text": [
      "\u001b[1mRows: \u001b[22m\u001b[34m891\u001b[39m \u001b[1mColumns: \u001b[22m\u001b[34m12\u001b[39m\n",
      "\u001b[36m──\u001b[39m \u001b[1mColumn specification\u001b[22m \u001b[36m────────────────────────────────────────────────────────\u001b[39m\n",
      "\u001b[1mDelimiter:\u001b[22m \",\"\n",
      "\u001b[31mchr\u001b[39m (5): Name, Sex, Ticket, Cabin, Embarked\n",
      "\u001b[32mdbl\u001b[39m (7): PassengerId, Survived, Pclass, Age, SibSp, Parch, Fare\n",
      "\n",
      "\u001b[36mℹ\u001b[39m Use `spec()` to retrieve the full column specification for this data.\n",
      "\u001b[36mℹ\u001b[39m Specify the column types or set `show_col_types = FALSE` to quiet this message.\n"
     ]
    },
    {
     "data": {
      "text/html": [
       "<table class=\"dataframe\">\n",
       "<caption>A tibble: 714 × 4</caption>\n",
       "<thead>\n",
       "\t<tr><th scope=col>Survived</th><th scope=col>Age</th><th scope=col>Fare</th><th scope=col>Sex</th></tr>\n",
       "\t<tr><th scope=col>&lt;fct&gt;</th><th scope=col>&lt;dbl&gt;</th><th scope=col>&lt;dbl&gt;</th><th scope=col>&lt;fct&gt;</th></tr>\n",
       "</thead>\n",
       "<tbody>\n",
       "\t<tr><td>0</td><td>22</td><td>  7.2500</td><td>male  </td></tr>\n",
       "\t<tr><td>1</td><td>38</td><td> 71.2833</td><td>female</td></tr>\n",
       "\t<tr><td>1</td><td>26</td><td>  7.9250</td><td>female</td></tr>\n",
       "\t<tr><td>1</td><td>35</td><td> 53.1000</td><td>female</td></tr>\n",
       "\t<tr><td>0</td><td>35</td><td>  8.0500</td><td>male  </td></tr>\n",
       "\t<tr><td>0</td><td>54</td><td> 51.8625</td><td>male  </td></tr>\n",
       "\t<tr><td>0</td><td> 2</td><td> 21.0750</td><td>male  </td></tr>\n",
       "\t<tr><td>1</td><td>27</td><td> 11.1333</td><td>female</td></tr>\n",
       "\t<tr><td>1</td><td>14</td><td> 30.0708</td><td>female</td></tr>\n",
       "\t<tr><td>1</td><td> 4</td><td> 16.7000</td><td>female</td></tr>\n",
       "\t<tr><td>1</td><td>58</td><td> 26.5500</td><td>female</td></tr>\n",
       "\t<tr><td>0</td><td>20</td><td>  8.0500</td><td>male  </td></tr>\n",
       "\t<tr><td>0</td><td>39</td><td> 31.2750</td><td>male  </td></tr>\n",
       "\t<tr><td>0</td><td>14</td><td>  7.8542</td><td>female</td></tr>\n",
       "\t<tr><td>1</td><td>55</td><td> 16.0000</td><td>female</td></tr>\n",
       "\t<tr><td>0</td><td> 2</td><td> 29.1250</td><td>male  </td></tr>\n",
       "\t<tr><td>0</td><td>31</td><td> 18.0000</td><td>female</td></tr>\n",
       "\t<tr><td>0</td><td>35</td><td> 26.0000</td><td>male  </td></tr>\n",
       "\t<tr><td>1</td><td>34</td><td> 13.0000</td><td>male  </td></tr>\n",
       "\t<tr><td>1</td><td>15</td><td>  8.0292</td><td>female</td></tr>\n",
       "\t<tr><td>1</td><td>28</td><td> 35.5000</td><td>male  </td></tr>\n",
       "\t<tr><td>0</td><td> 8</td><td> 21.0750</td><td>female</td></tr>\n",
       "\t<tr><td>1</td><td>38</td><td> 31.3875</td><td>female</td></tr>\n",
       "\t<tr><td>0</td><td>19</td><td>263.0000</td><td>male  </td></tr>\n",
       "\t<tr><td>0</td><td>40</td><td> 27.7208</td><td>male  </td></tr>\n",
       "\t<tr><td>0</td><td>66</td><td> 10.5000</td><td>male  </td></tr>\n",
       "\t<tr><td>0</td><td>28</td><td> 82.1708</td><td>male  </td></tr>\n",
       "\t<tr><td>0</td><td>42</td><td> 52.0000</td><td>male  </td></tr>\n",
       "\t<tr><td>0</td><td>21</td><td>  8.0500</td><td>male  </td></tr>\n",
       "\t<tr><td>0</td><td>18</td><td> 18.0000</td><td>female</td></tr>\n",
       "\t<tr><td>⋮</td><td>⋮</td><td>⋮</td><td>⋮</td></tr>\n",
       "\t<tr><td>1</td><td>45</td><td>164.8667</td><td>female</td></tr>\n",
       "\t<tr><td>1</td><td>51</td><td> 26.5500</td><td>male  </td></tr>\n",
       "\t<tr><td>1</td><td>24</td><td> 19.2583</td><td>female</td></tr>\n",
       "\t<tr><td>0</td><td>41</td><td> 14.1083</td><td>male  </td></tr>\n",
       "\t<tr><td>0</td><td>21</td><td> 11.5000</td><td>male  </td></tr>\n",
       "\t<tr><td>1</td><td>48</td><td> 25.9292</td><td>female</td></tr>\n",
       "\t<tr><td>0</td><td>24</td><td> 13.0000</td><td>male  </td></tr>\n",
       "\t<tr><td>1</td><td>42</td><td> 13.0000</td><td>female</td></tr>\n",
       "\t<tr><td>1</td><td>27</td><td> 13.8583</td><td>female</td></tr>\n",
       "\t<tr><td>0</td><td>31</td><td> 50.4958</td><td>male  </td></tr>\n",
       "\t<tr><td>1</td><td> 4</td><td> 11.1333</td><td>male  </td></tr>\n",
       "\t<tr><td>0</td><td>26</td><td>  7.8958</td><td>male  </td></tr>\n",
       "\t<tr><td>1</td><td>47</td><td> 52.5542</td><td>female</td></tr>\n",
       "\t<tr><td>0</td><td>33</td><td>  5.0000</td><td>male  </td></tr>\n",
       "\t<tr><td>0</td><td>47</td><td>  9.0000</td><td>male  </td></tr>\n",
       "\t<tr><td>1</td><td>28</td><td> 24.0000</td><td>female</td></tr>\n",
       "\t<tr><td>1</td><td>15</td><td>  7.2250</td><td>female</td></tr>\n",
       "\t<tr><td>0</td><td>20</td><td>  9.8458</td><td>male  </td></tr>\n",
       "\t<tr><td>0</td><td>19</td><td>  7.8958</td><td>male  </td></tr>\n",
       "\t<tr><td>1</td><td>56</td><td> 83.1583</td><td>female</td></tr>\n",
       "\t<tr><td>1</td><td>25</td><td> 26.0000</td><td>female</td></tr>\n",
       "\t<tr><td>0</td><td>33</td><td>  7.8958</td><td>male  </td></tr>\n",
       "\t<tr><td>0</td><td>22</td><td> 10.5167</td><td>female</td></tr>\n",
       "\t<tr><td>0</td><td>28</td><td> 10.5000</td><td>male  </td></tr>\n",
       "\t<tr><td>0</td><td>25</td><td>  7.0500</td><td>male  </td></tr>\n",
       "\t<tr><td>0</td><td>39</td><td> 29.1250</td><td>female</td></tr>\n",
       "\t<tr><td>0</td><td>27</td><td> 13.0000</td><td>male  </td></tr>\n",
       "\t<tr><td>1</td><td>19</td><td> 30.0000</td><td>female</td></tr>\n",
       "\t<tr><td>1</td><td>26</td><td> 30.0000</td><td>male  </td></tr>\n",
       "\t<tr><td>0</td><td>32</td><td>  7.7500</td><td>male  </td></tr>\n",
       "</tbody>\n",
       "</table>\n"
      ],
      "text/latex": [
       "A tibble: 714 × 4\n",
       "\\begin{tabular}{llll}\n",
       " Survived & Age & Fare & Sex\\\\\n",
       " <fct> & <dbl> & <dbl> & <fct>\\\\\n",
       "\\hline\n",
       "\t 0 & 22 &   7.2500 & male  \\\\\n",
       "\t 1 & 38 &  71.2833 & female\\\\\n",
       "\t 1 & 26 &   7.9250 & female\\\\\n",
       "\t 1 & 35 &  53.1000 & female\\\\\n",
       "\t 0 & 35 &   8.0500 & male  \\\\\n",
       "\t 0 & 54 &  51.8625 & male  \\\\\n",
       "\t 0 &  2 &  21.0750 & male  \\\\\n",
       "\t 1 & 27 &  11.1333 & female\\\\\n",
       "\t 1 & 14 &  30.0708 & female\\\\\n",
       "\t 1 &  4 &  16.7000 & female\\\\\n",
       "\t 1 & 58 &  26.5500 & female\\\\\n",
       "\t 0 & 20 &   8.0500 & male  \\\\\n",
       "\t 0 & 39 &  31.2750 & male  \\\\\n",
       "\t 0 & 14 &   7.8542 & female\\\\\n",
       "\t 1 & 55 &  16.0000 & female\\\\\n",
       "\t 0 &  2 &  29.1250 & male  \\\\\n",
       "\t 0 & 31 &  18.0000 & female\\\\\n",
       "\t 0 & 35 &  26.0000 & male  \\\\\n",
       "\t 1 & 34 &  13.0000 & male  \\\\\n",
       "\t 1 & 15 &   8.0292 & female\\\\\n",
       "\t 1 & 28 &  35.5000 & male  \\\\\n",
       "\t 0 &  8 &  21.0750 & female\\\\\n",
       "\t 1 & 38 &  31.3875 & female\\\\\n",
       "\t 0 & 19 & 263.0000 & male  \\\\\n",
       "\t 0 & 40 &  27.7208 & male  \\\\\n",
       "\t 0 & 66 &  10.5000 & male  \\\\\n",
       "\t 0 & 28 &  82.1708 & male  \\\\\n",
       "\t 0 & 42 &  52.0000 & male  \\\\\n",
       "\t 0 & 21 &   8.0500 & male  \\\\\n",
       "\t 0 & 18 &  18.0000 & female\\\\\n",
       "\t ⋮ & ⋮ & ⋮ & ⋮\\\\\n",
       "\t 1 & 45 & 164.8667 & female\\\\\n",
       "\t 1 & 51 &  26.5500 & male  \\\\\n",
       "\t 1 & 24 &  19.2583 & female\\\\\n",
       "\t 0 & 41 &  14.1083 & male  \\\\\n",
       "\t 0 & 21 &  11.5000 & male  \\\\\n",
       "\t 1 & 48 &  25.9292 & female\\\\\n",
       "\t 0 & 24 &  13.0000 & male  \\\\\n",
       "\t 1 & 42 &  13.0000 & female\\\\\n",
       "\t 1 & 27 &  13.8583 & female\\\\\n",
       "\t 0 & 31 &  50.4958 & male  \\\\\n",
       "\t 1 &  4 &  11.1333 & male  \\\\\n",
       "\t 0 & 26 &   7.8958 & male  \\\\\n",
       "\t 1 & 47 &  52.5542 & female\\\\\n",
       "\t 0 & 33 &   5.0000 & male  \\\\\n",
       "\t 0 & 47 &   9.0000 & male  \\\\\n",
       "\t 1 & 28 &  24.0000 & female\\\\\n",
       "\t 1 & 15 &   7.2250 & female\\\\\n",
       "\t 0 & 20 &   9.8458 & male  \\\\\n",
       "\t 0 & 19 &   7.8958 & male  \\\\\n",
       "\t 1 & 56 &  83.1583 & female\\\\\n",
       "\t 1 & 25 &  26.0000 & female\\\\\n",
       "\t 0 & 33 &   7.8958 & male  \\\\\n",
       "\t 0 & 22 &  10.5167 & female\\\\\n",
       "\t 0 & 28 &  10.5000 & male  \\\\\n",
       "\t 0 & 25 &   7.0500 & male  \\\\\n",
       "\t 0 & 39 &  29.1250 & female\\\\\n",
       "\t 0 & 27 &  13.0000 & male  \\\\\n",
       "\t 1 & 19 &  30.0000 & female\\\\\n",
       "\t 1 & 26 &  30.0000 & male  \\\\\n",
       "\t 0 & 32 &   7.7500 & male  \\\\\n",
       "\\end{tabular}\n"
      ],
      "text/markdown": [
       "\n",
       "A tibble: 714 × 4\n",
       "\n",
       "| Survived &lt;fct&gt; | Age &lt;dbl&gt; | Fare &lt;dbl&gt; | Sex &lt;fct&gt; |\n",
       "|---|---|---|---|\n",
       "| 0 | 22 |   7.2500 | male   |\n",
       "| 1 | 38 |  71.2833 | female |\n",
       "| 1 | 26 |   7.9250 | female |\n",
       "| 1 | 35 |  53.1000 | female |\n",
       "| 0 | 35 |   8.0500 | male   |\n",
       "| 0 | 54 |  51.8625 | male   |\n",
       "| 0 |  2 |  21.0750 | male   |\n",
       "| 1 | 27 |  11.1333 | female |\n",
       "| 1 | 14 |  30.0708 | female |\n",
       "| 1 |  4 |  16.7000 | female |\n",
       "| 1 | 58 |  26.5500 | female |\n",
       "| 0 | 20 |   8.0500 | male   |\n",
       "| 0 | 39 |  31.2750 | male   |\n",
       "| 0 | 14 |   7.8542 | female |\n",
       "| 1 | 55 |  16.0000 | female |\n",
       "| 0 |  2 |  29.1250 | male   |\n",
       "| 0 | 31 |  18.0000 | female |\n",
       "| 0 | 35 |  26.0000 | male   |\n",
       "| 1 | 34 |  13.0000 | male   |\n",
       "| 1 | 15 |   8.0292 | female |\n",
       "| 1 | 28 |  35.5000 | male   |\n",
       "| 0 |  8 |  21.0750 | female |\n",
       "| 1 | 38 |  31.3875 | female |\n",
       "| 0 | 19 | 263.0000 | male   |\n",
       "| 0 | 40 |  27.7208 | male   |\n",
       "| 0 | 66 |  10.5000 | male   |\n",
       "| 0 | 28 |  82.1708 | male   |\n",
       "| 0 | 42 |  52.0000 | male   |\n",
       "| 0 | 21 |   8.0500 | male   |\n",
       "| 0 | 18 |  18.0000 | female |\n",
       "| ⋮ | ⋮ | ⋮ | ⋮ |\n",
       "| 1 | 45 | 164.8667 | female |\n",
       "| 1 | 51 |  26.5500 | male   |\n",
       "| 1 | 24 |  19.2583 | female |\n",
       "| 0 | 41 |  14.1083 | male   |\n",
       "| 0 | 21 |  11.5000 | male   |\n",
       "| 1 | 48 |  25.9292 | female |\n",
       "| 0 | 24 |  13.0000 | male   |\n",
       "| 1 | 42 |  13.0000 | female |\n",
       "| 1 | 27 |  13.8583 | female |\n",
       "| 0 | 31 |  50.4958 | male   |\n",
       "| 1 |  4 |  11.1333 | male   |\n",
       "| 0 | 26 |   7.8958 | male   |\n",
       "| 1 | 47 |  52.5542 | female |\n",
       "| 0 | 33 |   5.0000 | male   |\n",
       "| 0 | 47 |   9.0000 | male   |\n",
       "| 1 | 28 |  24.0000 | female |\n",
       "| 1 | 15 |   7.2250 | female |\n",
       "| 0 | 20 |   9.8458 | male   |\n",
       "| 0 | 19 |   7.8958 | male   |\n",
       "| 1 | 56 |  83.1583 | female |\n",
       "| 1 | 25 |  26.0000 | female |\n",
       "| 0 | 33 |   7.8958 | male   |\n",
       "| 0 | 22 |  10.5167 | female |\n",
       "| 0 | 28 |  10.5000 | male   |\n",
       "| 0 | 25 |   7.0500 | male   |\n",
       "| 0 | 39 |  29.1250 | female |\n",
       "| 0 | 27 |  13.0000 | male   |\n",
       "| 1 | 19 |  30.0000 | female |\n",
       "| 1 | 26 |  30.0000 | male   |\n",
       "| 0 | 32 |   7.7500 | male   |\n",
       "\n"
      ],
      "text/plain": [
       "    Survived Age Fare     Sex   \n",
       "1   0        22    7.2500 male  \n",
       "2   1        38   71.2833 female\n",
       "3   1        26    7.9250 female\n",
       "4   1        35   53.1000 female\n",
       "5   0        35    8.0500 male  \n",
       "6   0        54   51.8625 male  \n",
       "7   0         2   21.0750 male  \n",
       "8   1        27   11.1333 female\n",
       "9   1        14   30.0708 female\n",
       "10  1         4   16.7000 female\n",
       "11  1        58   26.5500 female\n",
       "12  0        20    8.0500 male  \n",
       "13  0        39   31.2750 male  \n",
       "14  0        14    7.8542 female\n",
       "15  1        55   16.0000 female\n",
       "16  0         2   29.1250 male  \n",
       "17  0        31   18.0000 female\n",
       "18  0        35   26.0000 male  \n",
       "19  1        34   13.0000 male  \n",
       "20  1        15    8.0292 female\n",
       "21  1        28   35.5000 male  \n",
       "22  0         8   21.0750 female\n",
       "23  1        38   31.3875 female\n",
       "24  0        19  263.0000 male  \n",
       "25  0        40   27.7208 male  \n",
       "26  0        66   10.5000 male  \n",
       "27  0        28   82.1708 male  \n",
       "28  0        42   52.0000 male  \n",
       "29  0        21    8.0500 male  \n",
       "30  0        18   18.0000 female\n",
       "⋮   ⋮        ⋮   ⋮        ⋮     \n",
       "685 1        45  164.8667 female\n",
       "686 1        51   26.5500 male  \n",
       "687 1        24   19.2583 female\n",
       "688 0        41   14.1083 male  \n",
       "689 0        21   11.5000 male  \n",
       "690 1        48   25.9292 female\n",
       "691 0        24   13.0000 male  \n",
       "692 1        42   13.0000 female\n",
       "693 1        27   13.8583 female\n",
       "694 0        31   50.4958 male  \n",
       "695 1         4   11.1333 male  \n",
       "696 0        26    7.8958 male  \n",
       "697 1        47   52.5542 female\n",
       "698 0        33    5.0000 male  \n",
       "699 0        47    9.0000 male  \n",
       "700 1        28   24.0000 female\n",
       "701 1        15    7.2250 female\n",
       "702 0        20    9.8458 male  \n",
       "703 0        19    7.8958 male  \n",
       "704 1        56   83.1583 female\n",
       "705 1        25   26.0000 female\n",
       "706 0        33    7.8958 male  \n",
       "707 0        22   10.5167 female\n",
       "708 0        28   10.5000 male  \n",
       "709 0        25    7.0500 male  \n",
       "710 0        39   29.1250 female\n",
       "711 0        27   13.0000 male  \n",
       "712 1        19   30.0000 female\n",
       "713 1        26   30.0000 male  \n",
       "714 0        32    7.7500 male  "
      ]
     },
     "metadata": {},
     "output_type": "display_data"
    }
   ],
   "source": [
    "titanic_data <- read_csv(\"titanic.csv\") |> #read data set\n",
    "select(\"Survived\", \"Age\", \"Fare\", \"Sex\") |> #filter for relevant variables\n",
    "filter(!is.na(Age)) |> #remove observations with unknown Age\n",
    "mutate(Survived = as.factor(Survived)) |> # 1 represents survived and 0 represents died\n",
    "mutate(Sex = as.factor(Sex))\n",
    "\n",
    "\n",
    "titanic_data\n",
    "\n",
    "titanic_split <- initial_split(titanic_data, prop = 0.75, strata = Survived) #split into 75% training, 25% testing\n",
    "titanic_train <- training(titanic_split)\n",
    "titanic_test <- testing(titanic_split)"
   ]
  },
  {
   "cell_type": "code",
   "execution_count": 56,
   "id": "aa074ce4-fbb7-4438-92c8-f31971436200",
   "metadata": {},
   "outputs": [
    {
     "data": {
      "text/html": [
       "<table class=\"dataframe\">\n",
       "<caption>A tibble: 2 × 6</caption>\n",
       "<thead>\n",
       "\t<tr><th scope=col>Survived</th><th scope=col>count</th><th scope=col>percentage</th><th scope=col>avg_age</th><th scope=col>avg_fare</th><th scope=col>avg_sex</th></tr>\n",
       "\t<tr><th scope=col>&lt;fct&gt;</th><th scope=col>&lt;int&gt;</th><th scope=col>&lt;dbl&gt;</th><th scope=col>&lt;dbl&gt;</th><th scope=col>&lt;dbl&gt;</th><th scope=col>&lt;dbl&gt;</th></tr>\n",
       "</thead>\n",
       "<tbody>\n",
       "\t<tr><td>0</td><td>318</td><td>59.43925</td><td>29.87107</td><td>23.29064</td><td>0.8396226</td></tr>\n",
       "\t<tr><td>1</td><td>217</td><td>40.56075</td><td>27.86599</td><td>52.18232</td><td>0.3271889</td></tr>\n",
       "</tbody>\n",
       "</table>\n"
      ],
      "text/latex": [
       "A tibble: 2 × 6\n",
       "\\begin{tabular}{llllll}\n",
       " Survived & count & percentage & avg\\_age & avg\\_fare & avg\\_sex\\\\\n",
       " <fct> & <int> & <dbl> & <dbl> & <dbl> & <dbl>\\\\\n",
       "\\hline\n",
       "\t 0 & 318 & 59.43925 & 29.87107 & 23.29064 & 0.8396226\\\\\n",
       "\t 1 & 217 & 40.56075 & 27.86599 & 52.18232 & 0.3271889\\\\\n",
       "\\end{tabular}\n"
      ],
      "text/markdown": [
       "\n",
       "A tibble: 2 × 6\n",
       "\n",
       "| Survived &lt;fct&gt; | count &lt;int&gt; | percentage &lt;dbl&gt; | avg_age &lt;dbl&gt; | avg_fare &lt;dbl&gt; | avg_sex &lt;dbl&gt; |\n",
       "|---|---|---|---|---|---|\n",
       "| 0 | 318 | 59.43925 | 29.87107 | 23.29064 | 0.8396226 |\n",
       "| 1 | 217 | 40.56075 | 27.86599 | 52.18232 | 0.3271889 |\n",
       "\n"
      ],
      "text/plain": [
       "  Survived count percentage avg_age  avg_fare avg_sex  \n",
       "1 0        318   59.43925   29.87107 23.29064 0.8396226\n",
       "2 1        217   40.56075   27.86599 52.18232 0.3271889"
      ]
     },
     "metadata": {},
     "output_type": "display_data"
    }
   ],
   "source": [
    "num_obs <- nrow(titanic_train)\n",
    "titanic_train |>\n",
    "mutate(is_male = as.integer(Sex != 'female')) |> #convert to binary 1 = Male , 0 = Female\n",
    "group_by(Survived) |> \n",
    "summarize(count = n(), percentage = n() / num_obs * 100, avg_age = mean(Age), avg_fare = mean(Fare), avg_sex = mean(is_male))"
   ]
  },
  {
   "cell_type": "markdown",
   "id": "e630547e-5cee-42a0-800e-171b3377a5fb",
   "metadata": {},
   "source": [
    "### Analysis\n",
    "Here we see a strong difference in fare price and sex between those who survived and those who didn't. Those who survived on average paid $30 more than those who did not and were more likely to be female rather than male. Their seemed to be less of a difference between ages of those who survived and those who did not but still the ones who survived were on average younger."
   ]
  },
  {
   "cell_type": "code",
   "execution_count": 57,
   "id": "e63f06ee-9032-452a-8a5b-8d0c933fd861",
   "metadata": {},
   "outputs": [
    {
     "data": {
      "text/html": [
       "0"
      ],
      "text/latex": [
       "0"
      ],
      "text/markdown": [
       "0"
      ],
      "text/plain": [
       "[1] 0"
      ]
     },
     "metadata": {},
     "output_type": "display_data"
    }
   ],
   "source": [
    "sum(is.na(titanic_train)) #number of observations that had NA values"
   ]
  },
  {
   "cell_type": "markdown",
   "id": "b9f45d43-a619-4c73-9d78-dfb3e7911e3e",
   "metadata": {},
   "source": [
    "### Preliminary Visualization:"
   ]
  },
  {
   "cell_type": "code",
   "execution_count": 58,
   "id": "1c401d0b-a6e8-4d37-96f7-0abca50466c6",
   "metadata": {},
   "outputs": [
    {
     "data": {
      "image/png": "[encoded data removed]",
      "text/plain": [
       "plot without title"
      ]
     },
     "metadata": {
      "image/png": {
       "height": 480,
       "width": 900
      }
     },
     "output_type": "display_data"
    }
   ],
   "source": [
    "options(repr.plot.width=15, repr.plot.height=8)\n",
    "\n",
    "training_plot <- ggplot(titanic_train, aes(x=Age, y=Fare))+\n",
    "geom_point(aes(color = Survived, shape = Sex), alpha=0.8) +\n",
    "labs(x = \"Age\" , y = \"Fare ($)\", color = \"Survived (1 = yes, 0 = no)\", shape = \"Sex\") +\n",
    "ggtitle(\"Survival of the Titanic Disaster\") +\n",
    "theme(text = element_text(size = 15))\n",
    "\n",
    "training_plot\n"
   ]
  },
  {
   "cell_type": "markdown",
   "id": "46a7360a-5154-40bb-90b8-087d8c8426a3",
   "metadata": {},
   "source": [
    "# Methods:\n",
    "After reading in the titanic data, we select only the useful information for our question. This includes the “Survived”, “Age”, “Fare”, and “Sex” columns. The “Survived” column contains values of either 0 or 1, with 1 indicating the survival of a person and 0 indicating that the person did not survive. The “Age” column contains double values denoting the age in years of each person. The “Fare” column contains double values denoting the fare price in dollars paid for the trip. Finally, the “Sex” column contains either “male” or “female”. "
   ]
  },
  {
   "cell_type": "markdown",
   "id": "f6a3e520-1567-45c2-ab64-a9733374779f",
   "metadata": {},
   "source": [
    "We will be using a scatter plot to represent our data. The x-axis will represent age, the y-axis will represent fare price, the shape of the points will represent sex (circle = female, triangle = male), and the color will represent survival (orange = did not survive, blue = survived).\n"
   ]
  },
  {
   "cell_type": "markdown",
   "id": "f92e9436-df2b-4131-9427-a7e472ed3a31",
   "metadata": {},
   "source": [
    "# Expected outcomes and significance:\n",
    "We expect to find that, since women and children were given priority access to lifeboats, the survival rates of people under 12 years old as well as the survival rates of women should be higher than adult males. Additionally, wealthier passengers are expected to have a higher rate of survival due to the infrastructure of the ship; first-class cabins were closest to the lifeboats, therefore they were first in line to board lifeboats."
   ]
  },
  {
   "cell_type": "markdown",
   "id": "b02104fe-5e47-4a94-b457-88bcb1a622e5",
   "metadata": {},
   "source": [
    "These findings could lead us to understand the type of person that had priority in escaping on a lifeboat. Additionally, it could support our theory that social priorities in the early 1900s leaned towards the health of young people, women, and wealthy people."
   ]
  },
  {
   "cell_type": "markdown",
   "id": "fff513e7-cce9-4493-97a6-cd52ea9046f4",
   "metadata": {},
   "source": [
    "We only had access to 891 data points so many of the people who were on the boat were not classified as having survived or not. Essentially, these people were missing. Using our model we could potentially predict whether or not these people survived or died if we had access to their sex, age, and ticket fare price."
   ]
  }
 ],
 "metadata": {
  "kernelspec": {
   "display_name": "R",
   "language": "R",
   "name": "ir"
  },
  "language_info": {
   "codemirror_mode": "r",
   "file_extension": ".r",
   "mimetype": "text/x-r-source",
   "name": "R",
   "pygments_lexer": "r",
   "version": "4.1.3"
  }
 },
 "nbformat": 4,
 "nbformat_minor": 5
}
